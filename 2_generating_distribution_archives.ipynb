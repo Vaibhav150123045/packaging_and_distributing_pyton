{
 "cells": [
  {
   "cell_type": "markdown",
   "id": "f13e5580",
   "metadata": {},
   "source": [
    "### Generating distribution archives\n",
    "\n",
    "The next step is to generate distribution packages for the package. These are archives that are uploaded to the Python Package Index and can be installed by pip.\n",
    "\n",
    "Make sure you have the latest version of PyPA’s build installed:"
   ]
  },
  {
   "cell_type": "code",
   "execution_count": 1,
   "id": "7e450894",
   "metadata": {},
   "outputs": [
    {
     "name": "stdout",
     "output_type": "stream",
     "text": [
      "Collecting build\n",
      "  Downloading build-1.3.0-py3-none-any.whl.metadata (5.6 kB)\n",
      "Requirement already satisfied: packaging>=19.1 in ./.venv/lib/python3.11/site-packages (from build) (25.0)\n",
      "Collecting pyproject_hooks (from build)\n",
      "  Downloading pyproject_hooks-1.2.0-py3-none-any.whl.metadata (1.3 kB)\n",
      "Downloading build-1.3.0-py3-none-any.whl (23 kB)\n",
      "Downloading pyproject_hooks-1.2.0-py3-none-any.whl (10 kB)\n",
      "Installing collected packages: pyproject_hooks, build\n",
      "\u001b[2K   \u001b[90m━━━━━━━━━━━━━━━━━━━━━━━━━━━━━━━━━━━━━━━━\u001b[0m \u001b[32m2/2\u001b[0m [build]\n",
      "\u001b[1A\u001b[2KSuccessfully installed build-1.3.0 pyproject_hooks-1.2.0\n"
     ]
    }
   ],
   "source": [
    "!python3 -m pip install --upgrade build"
   ]
  },
  {
   "cell_type": "markdown",
   "id": "b36220c8",
   "metadata": {},
   "source": [
    "Now run this command from the same directory where pyproject.toml is located:"
   ]
  },
  {
   "cell_type": "code",
   "execution_count": 2,
   "id": "ce5f515d",
   "metadata": {},
   "outputs": [
    {
     "name": "stdout",
     "output_type": "stream",
     "text": [
      "\u001b[1m* Creating isolated environment: venv+pip...\u001b[0m\n",
      "\u001b[1m* Installing packages in isolated environment:\u001b[0m\n",
      "  - hatchling >= 1.26\n",
      "\u001b[1m* Getting build dependencies for sdist...\u001b[0m\n",
      "\u001b[1m* Building sdist...\u001b[0m\n",
      "\u001b[1m* Building wheel from sdist\u001b[0m\n",
      "\u001b[1m* Creating isolated environment: venv+pip...\u001b[0m\n",
      "\u001b[1m* Installing packages in isolated environment:\u001b[0m\n",
      "  - hatchling >= 1.26\n",
      "\u001b[1m* Getting build dependencies for wheel...\u001b[0m\n",
      "\u001b[1m* Building wheel...\u001b[0m\n",
      "\u001b[1m\u001b[92mSuccessfully built \u001b[4mpackage_vaibhav_motwani-0.0.1.tar.gz\u001b[0m\u001b[1m\u001b[92m and \u001b[4mpackage_vaibhav_motwani-0.0.1-py3-none-any.whl\u001b[0m\u001b[1m\u001b[92m\u001b[0m\n"
     ]
    }
   ],
   "source": [
    "!python3 -m build\n"
   ]
  },
  {
   "cell_type": "markdown",
   "id": "ed860ad8",
   "metadata": {},
   "source": [
    "This command should output a lot of text and once completed should generate two files in the dist directory:\n",
    "\n",
    "dist/\n",
    "\n",
    "├── package_vaibhav_motwani-0.0.1-py3-none-any.whl\n",
    "\n",
    "└── package_vaibhav_motwani-0.0.1-0.0.1.tar.gz\n",
    "\n",
    "The tar.gz file is a source distribution whereas the .whl file is a built distribution. Newer pip versions preferentially install built distributions, but will fall back to source distributions if needed. You should always upload a source distribution and provide built distributions for the platforms your project is compatible with. In this case, our example package is compatible with Python on any platform so only one built distribution is needed."
   ]
  },
  {
   "cell_type": "markdown",
   "id": "a41def76",
   "metadata": {},
   "source": [
    "### Uploading the distribution archives\n",
    "\n",
    "Finally, it’s time to upload your package to the Python Package Index!\n",
    "\n",
    "The first thing you’ll need to do is register an account on TestPyPI, which is a separate instance of the package index intended for testing and experimentation. It’s great for things like this tutorial where we don’t necessarily want to upload to the real index. To register an account, go to https://test.pypi.org/account/register/ and complete the steps on that page. You will also need to verify your email address before you’re able to upload any packages. For more details, see Using TestPyPI.\n",
    "\n",
    "To securely upload your project, you’ll need a PyPI API token. Create one at https://test.pypi.org/manage/account/#api-tokens, setting the “Scope” to “Entire account”. Don’t close the page until you have copied and saved the token — you won’t see that token again.\n",
    "\n",
    "Here is my token - pypi-AgENdGVzdC5weXBpLm9yZwIkMTk0NDNkYjctNDNhZC00NDRkLWIwZjItOTcyZWFlMWQ4YzA3AAIqWzMsIjA3ZTE4MTlhLWM1YzgtNGM5OC05MTlkLTYwOWNlMmNlMThhMSJdAAAGIOCq-8Sy8mpjjHp6T1J4DQT_TQ6jj0tzxZKBTHCmr5a9\n",
    "\n",
    "Now that you are registered, you can use twine to upload the distribution packages. You’ll need to install Twine:"
   ]
  },
  {
   "cell_type": "code",
   "execution_count": 3,
   "id": "735da835",
   "metadata": {},
   "outputs": [
    {
     "name": "stdout",
     "output_type": "stream",
     "text": [
      "Requirement already satisfied: twine in ./.venv/lib/python3.11/site-packages (6.2.0)\n",
      "Requirement already satisfied: readme-renderer>=35.0 in ./.venv/lib/python3.11/site-packages (from twine) (44.0)\n",
      "Requirement already satisfied: requests>=2.20 in ./.venv/lib/python3.11/site-packages (from twine) (2.32.5)\n",
      "Requirement already satisfied: requests-toolbelt!=0.9.0,>=0.8.0 in ./.venv/lib/python3.11/site-packages (from twine) (1.0.0)\n",
      "Requirement already satisfied: urllib3>=1.26.0 in ./.venv/lib/python3.11/site-packages (from twine) (2.5.0)\n",
      "Requirement already satisfied: keyring>=21.2.0 in ./.venv/lib/python3.11/site-packages (from twine) (25.6.0)\n",
      "Requirement already satisfied: rfc3986>=1.4.0 in ./.venv/lib/python3.11/site-packages (from twine) (2.0.0)\n",
      "Requirement already satisfied: rich>=12.0.0 in ./.venv/lib/python3.11/site-packages (from twine) (14.2.0)\n",
      "Requirement already satisfied: packaging>=24.0 in ./.venv/lib/python3.11/site-packages (from twine) (25.0)\n",
      "Requirement already satisfied: id in ./.venv/lib/python3.11/site-packages (from twine) (1.5.0)\n",
      "Requirement already satisfied: importlib_metadata>=4.11.4 in ./.venv/lib/python3.11/site-packages (from keyring>=21.2.0->twine) (8.7.0)\n",
      "Requirement already satisfied: jaraco.classes in ./.venv/lib/python3.11/site-packages (from keyring>=21.2.0->twine) (3.4.0)\n",
      "Requirement already satisfied: jaraco.functools in ./.venv/lib/python3.11/site-packages (from keyring>=21.2.0->twine) (4.3.0)\n",
      "Requirement already satisfied: jaraco.context in ./.venv/lib/python3.11/site-packages (from keyring>=21.2.0->twine) (6.0.1)\n",
      "Requirement already satisfied: zipp>=3.20 in ./.venv/lib/python3.11/site-packages (from importlib_metadata>=4.11.4->keyring>=21.2.0->twine) (3.23.0)\n",
      "Requirement already satisfied: nh3>=0.2.14 in ./.venv/lib/python3.11/site-packages (from readme-renderer>=35.0->twine) (0.3.1)\n",
      "Requirement already satisfied: docutils>=0.21.2 in ./.venv/lib/python3.11/site-packages (from readme-renderer>=35.0->twine) (0.22.2)\n",
      "Requirement already satisfied: Pygments>=2.5.1 in ./.venv/lib/python3.11/site-packages (from readme-renderer>=35.0->twine) (2.19.2)\n",
      "Requirement already satisfied: charset_normalizer<4,>=2 in ./.venv/lib/python3.11/site-packages (from requests>=2.20->twine) (3.4.4)\n",
      "Requirement already satisfied: idna<4,>=2.5 in ./.venv/lib/python3.11/site-packages (from requests>=2.20->twine) (3.11)\n",
      "Requirement already satisfied: certifi>=2017.4.17 in ./.venv/lib/python3.11/site-packages (from requests>=2.20->twine) (2025.10.5)\n",
      "Requirement already satisfied: markdown-it-py>=2.2.0 in ./.venv/lib/python3.11/site-packages (from rich>=12.0.0->twine) (4.0.0)\n",
      "Requirement already satisfied: mdurl~=0.1 in ./.venv/lib/python3.11/site-packages (from markdown-it-py>=2.2.0->rich>=12.0.0->twine) (0.1.2)\n",
      "Requirement already satisfied: more-itertools in ./.venv/lib/python3.11/site-packages (from jaraco.classes->keyring>=21.2.0->twine) (10.8.0)\n",
      "Requirement already satisfied: backports.tarfile in ./.venv/lib/python3.11/site-packages (from jaraco.context->keyring>=21.2.0->twine) (1.2.0)\n"
     ]
    }
   ],
   "source": [
    "!python3 -m pip install --upgrade twine\n"
   ]
  },
  {
   "cell_type": "markdown",
   "id": "00d3615f",
   "metadata": {},
   "source": [
    "Once installed, run Twine to upload all of the archives under dist:"
   ]
  },
  {
   "cell_type": "code",
   "execution_count": null,
   "id": "17850b44",
   "metadata": {},
   "outputs": [],
   "source": [
    "!python3 -m twine upload --repository testpypi dist/*"
   ]
  },
  {
   "cell_type": "markdown",
   "id": "f02ea258",
   "metadata": {},
   "source": [
    "Uploading distributions to https://test.pypi.org/legacy/\n",
    "\n",
    "WARNING  This environment is not supported for trusted publishing   \n",
    "\n",
    "Enter your API token: \n",
    "\n",
    "Uploading package_vaibhav_motwani-0.0.1-py3-none-any.whl\n",
    "\n",
    "100%  5.2/5.2 kB • 00:00 • ?\n",
    "\n",
    "Uploading package_vaibhav_motwani-0.0.1.tar.gz\n",
    "\n",
    "100%  87.4/87.4 kB • 00:00 • 70.9 MB/s\n",
    "\n",
    "View at:\n",
    "https://test.pypi.org/project/package-vaibhav-motwani/0.0.1/"
   ]
  },
  {
   "cell_type": "code",
   "execution_count": 5,
   "id": "2b711d94",
   "metadata": {},
   "outputs": [
    {
     "name": "stdout",
     "output_type": "stream",
     "text": [
      "Looking in indexes: https://test.pypi.org/simple/\n",
      "Collecting package-vaibhav-motwani==0.0.1\n",
      "  Downloading https://test-files.pythonhosted.org/packages/c1/0d/6e19f3eafbe140d47ac092833f6db0e0a295f8dab5190de60031a9c0b441/package_vaibhav_motwani-0.0.1-py3-none-any.whl.metadata (669 bytes)\n",
      "Downloading https://test-files.pythonhosted.org/packages/c1/0d/6e19f3eafbe140d47ac092833f6db0e0a295f8dab5190de60031a9c0b441/package_vaibhav_motwani-0.0.1-py3-none-any.whl (2.5 kB)\n",
      "Installing collected packages: package-vaibhav-motwani\n",
      "Successfully installed package-vaibhav-motwani-0.0.1\n"
     ]
    }
   ],
   "source": [
    "!pip install -i https://test.pypi.org/simple/ package-vaibhav-motwani==0.0.1"
   ]
  },
  {
   "cell_type": "code",
   "execution_count": 7,
   "id": "ec2ee295",
   "metadata": {},
   "outputs": [
    {
     "data": {
      "text/plain": [
       "3"
      ]
     },
     "execution_count": 7,
     "metadata": {},
     "output_type": "execute_result"
    }
   ],
   "source": [
    "from package_vaibhav_motwani import example\n",
    "example.add_one(2)\n"
   ]
  },
  {
   "cell_type": "markdown",
   "id": "543ff35f",
   "metadata": {},
   "source": [
    "Next steps\n",
    "Congratulations, you’ve packaged and distributed a Python project! ✨ 🍰 ✨\n",
    "\n",
    "Keep in mind that this tutorial showed you how to upload your package to Test PyPI, which isn’t a permanent storage. The Test system occasionally deletes packages and accounts. It is best to use TestPyPI for testing and experiments like this tutorial.\n",
    "\n",
    "When you are ready to upload a real package to the Python Package Index you can do much the same as you did in this tutorial, but with these important differences:\n",
    "\n",
    "Choose a memorable and unique name for your package. You don’t have to append your username as you did in the tutorial, but you can’t use an existing name.\n",
    "\n",
    "Register an account on https://pypi.org - note that these are two separate servers and the login details from the test server are not shared with the main server.\n",
    "\n",
    "Use twine upload dist/* to upload your package and enter your credentials for the account you registered on the real PyPI. Now that you’re uploading the package in production, you don’t need to specify --repository; the package will upload to https://pypi.org/ by default.\n",
    "\n",
    "Install your package from the real PyPI using python3 -m pip install [your-package].\n",
    "\n",
    "At this point if you want to read more on packaging Python libraries here are some things you can do:\n",
    "\n",
    "Read about advanced configuration for your chosen build backend: Hatchling, setuptools, Flit, PDM.\n",
    "\n",
    "Look at the guides on this site for more advanced practical information, or the discussions for explanations and background on specific topics.\n",
    "\n",
    "Consider packaging tools that provide a single command-line interface for project management and packaging, such as hatch, flit, pdm, and poetry.\n",
    "\n"
   ]
  },
  {
   "cell_type": "code",
   "execution_count": null,
   "id": "14e11b4d",
   "metadata": {},
   "outputs": [],
   "source": []
  }
 ],
 "metadata": {
  "kernelspec": {
   "display_name": ".venv",
   "language": "python",
   "name": "python3"
  },
  "language_info": {
   "codemirror_mode": {
    "name": "ipython",
    "version": 3
   },
   "file_extension": ".py",
   "mimetype": "text/x-python",
   "name": "python",
   "nbconvert_exporter": "python",
   "pygments_lexer": "ipython3",
   "version": "3.11.12"
  }
 },
 "nbformat": 4,
 "nbformat_minor": 5
}
